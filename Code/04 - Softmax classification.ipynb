{
 "cells": [
  {
   "cell_type": "code",
   "execution_count": 0,
   "metadata": {
    "colab": {
     "base_uri": "https://localhost:8080/",
     "height": 34
    },
    "colab_type": "code",
    "executionInfo": {
     "elapsed": 2192,
     "status": "ok",
     "timestamp": 1561962960433,
     "user": {
      "displayName": "junseop so",
      "photoUrl": "",
      "userId": "03070847090635331575"
     },
     "user_tz": -540
    },
    "id": "9JutkdoS4X-A",
    "outputId": "a85a746f-3b59-4a1c-e0ac-4c7f1d778293"
   },
   "outputs": [
    {
     "data": {
      "text/plain": [
       "'1.14.0'"
      ]
     },
     "execution_count": 1,
     "metadata": {
      "tags": []
     },
     "output_type": "execute_result"
    }
   ],
   "source": [
    "import tensorflow as tf\n",
    "import numpy as np\n",
    "import matplotlib.pyplot as plt\n",
    "\n",
    "tf.enable_eager_execution()\n",
    "tf.__version__"
   ]
  },
  {
   "cell_type": "markdown",
   "metadata": {
    "colab_type": "text",
    "id": "r8vMWSpBX3iX"
   },
   "source": [
    "# Softmax classification\n",
    "\n",
    "* 임의의 Dataset 준비\n"
   ]
  },
  {
   "cell_type": "code",
   "execution_count": 0,
   "metadata": {
    "colab": {},
    "colab_type": "code",
    "id": "lZH1QvjlFBsE"
   },
   "outputs": [],
   "source": [
    "x_data = [[1., 2., 1., 1.],\n",
    "          [2., 1., 3., 2.],\n",
    "          [3., 1., 3., 4.],\n",
    "          [4., 1., 5., 5.],\n",
    "          [1., 7., 5., 5.],\n",
    "          [1., 2., 5., 6.],\n",
    "          [1., 6., 6., 6.],\n",
    "          [1., 7., 7., 7.]] # 8x4\n",
    "y_data = [[0., 0., 1.],\n",
    "          [0., 0., 1.],\n",
    "          [0., 0., 1.],\n",
    "          [0., 1., 0.],\n",
    "          [0., 1., 0.],\n",
    "          [0., 1., 0.],\n",
    "          [1., 0., 0.],\n",
    "          [1., 0., 0.]] # 8x3\n",
    "\n",
    "x_test = [[1., 1., 1., 1.]]\n",
    "y_test = [[0., 0., 1.]]\n",
    "\n",
    "#convert into numpy and float format\n",
    "x_data = np.asarray(x_data, dtype=np.float32)\n",
    "y_data = np.asarray(y_data, dtype=np.float32)\n"
   ]
  },
  {
   "cell_type": "markdown",
   "metadata": {},
   "source": [
    "## 임의의 Data를 이용해서 3개의 클래스를 가지는 데이터셋 생성"
   ]
  },
  {
   "cell_type": "code",
   "execution_count": 0,
   "metadata": {
    "colab": {
     "base_uri": "https://localhost:8080/",
     "height": 51
    },
    "colab_type": "code",
    "executionInfo": {
     "elapsed": 2195,
     "status": "ok",
     "timestamp": 1561962960440,
     "user": {
      "displayName": "junseop so",
      "photoUrl": "",
      "userId": "03070847090635331575"
     },
     "user_tz": -540
    },
    "id": "HpNjJzwwX7uz",
    "outputId": "7a72dbc1-fe6f-488f-df89-d5d705a973ca"
   },
   "outputs": [
    {
     "name": "stdout",
     "output_type": "stream",
     "text": [
      "(8, 4)\n",
      "(8, 3)\n"
     ]
    }
   ],
   "source": [
    "#dataset을 선언합니다.\n",
    "dataset = tf.data.Dataset.from_tensor_slices((x_data, y_data))\n",
    "dataset = dataset.repeat(1).batch(8)\n",
    "\n",
    "nb_classes = 3 # class의 개수입니다.\n",
    "\n",
    "print(x_data.shape)\n",
    "print(y_data.shape)"
   ]
  },
  {
   "cell_type": "code",
   "execution_count": 0,
   "metadata": {
    "colab": {
     "base_uri": "https://localhost:8080/",
     "height": 102
    },
    "colab_type": "code",
    "executionInfo": {
     "elapsed": 2195,
     "status": "ok",
     "timestamp": 1561962960441,
     "user": {
      "displayName": "junseop so",
      "photoUrl": "",
      "userId": "03070847090635331575"
     },
     "user_tz": -540
    },
    "id": "wmHTiEKcX_zD",
    "outputId": "2bdcfef9-9e12-4ee4-f310-a30b30e5aaa6"
   },
   "outputs": [
    {
     "name": "stdout",
     "output_type": "stream",
     "text": [
      "<tf.Variable 'weight:0' shape=(4, 3) dtype=float32, numpy=\n",
      "array([[ 1.0411005 , -1.2035726 , -0.9278547 ],\n",
      "       [ 0.08599742,  0.97621495,  0.19296075],\n",
      "       [ 0.09499903, -0.5954188 , -1.0320287 ],\n",
      "       [ 0.9404571 ,  0.06505298,  0.30034235]], dtype=float32)> <tf.Variable 'bias:0' shape=(3,) dtype=float32, numpy=array([-0.08296263, -0.32026964,  0.14704172], dtype=float32)>\n"
     ]
    }
   ],
   "source": [
    "#Weight and bias setting\n",
    "W = tf.Variable(tf.random_normal([4, nb_classes]), name='weight')\n",
    "b = tf.Variable(tf.random_normal([nb_classes]), name='bias')\n",
    "variables = [W, b]\n",
    "\n",
    "print(W,b)"
   ]
  },
  {
   "cell_type": "code",
   "execution_count": 0,
   "metadata": {
    "colab": {
     "base_uri": "https://localhost:8080/",
     "height": 170
    },
    "colab_type": "code",
    "executionInfo": {
     "elapsed": 814,
     "status": "ok",
     "timestamp": 1561962982366,
     "user": {
      "displayName": "junseop so",
      "photoUrl": "",
      "userId": "03070847090635331575"
     },
     "user_tz": -540
    },
    "id": "Kje8MUl-DOMO",
    "outputId": "e1169eed-9493-4e0b-a0b9-a11951e63fa9"
   },
   "outputs": [
    {
     "name": "stdout",
     "output_type": "stream",
     "text": [
      "tf.Tensor(\n",
      "[[8.7661028e-01 9.0803273e-02 3.2586426e-02]\n",
      " [9.9927038e-01 4.7167155e-04 2.5788791e-04]\n",
      " [9.9998128e-01 8.6842711e-06 1.0014675e-05]\n",
      " [9.9999976e-01 9.6387225e-08 7.7377841e-08]\n",
      " [9.8331439e-01 1.6632548e-02 5.3131189e-05]\n",
      " [9.9990106e-01 8.2216204e-05 1.6685848e-05]\n",
      " [9.9854290e-01 1.4487343e-03 8.2815232e-06]\n",
      " [9.9926072e-01 7.3771703e-04 1.5754899e-06]], shape=(8, 3), dtype=float32)\n"
     ]
    }
   ],
   "source": [
    "# tf.nn.softmax computes softmax activations\n",
    "# softmax = exp(logits) / reduce_sum(exp(logits), dim)\n",
    "def hypothesis_softmax(X):\n",
    "    return tf.nn.softmax(tf.matmul(X, W) + b)\n",
    "\n",
    "print(hypothesis_softmax(x_data))"
   ]
  },
  {
   "cell_type": "markdown",
   "metadata": {
    "colab_type": "text",
    "id": "aYnGTBv2S-DS"
   },
   "source": [
    "## 가설을 검증할 Cost 함수를 정의합니다\n",
    "$$\n",
    "\\begin{align}\n",
    "cost(h(x),y) & = −log(h(x))  &  if  &  y=1 \\\\\\\\\\\n",
    "cost(h(x),y) & = -log(1−h(x))  &  if  &  y=0\n",
    "\\end{align}\n",
    "$$\n",
    "\n",
    "### 두 식을 한번에 쓰게되면,\n",
    "\n",
    "$$\n",
    "\\begin{align}\n",
    "cost(h(x),y) & = −y log(h(x))−(1−y)log(1−h(x))\n",
    "\\end{align}\n",
    "$$"
   ]
  },
  {
   "cell_type": "code",
   "execution_count": 0,
   "metadata": {
    "colab": {},
    "colab_type": "code",
    "id": "fxXa5whUIwSN"
   },
   "outputs": [],
   "source": [
    "def loss_fn(hypothesis, labels):\n",
    "    cost = -tf.reduce_mean(labels * tf.log(hypothesis) + (1 - labels) * tf.log(1 - hypothesis))\n",
    "    return cost\n",
    "\n",
    "optimizer = tf.train.GradientDescentOptimizer(learning_rate=0.01)"
   ]
  },
  {
   "cell_type": "code",
   "execution_count": 0,
   "metadata": {
    "colab": {
     "base_uri": "https://localhost:8080/",
     "height": 867
    },
    "colab_type": "code",
    "executionInfo": {
     "elapsed": 19473,
     "status": "ok",
     "timestamp": 1561963225102,
     "user": {
      "displayName": "junseop so",
      "photoUrl": "",
      "userId": "03070847090635331575"
     },
     "user_tz": -540
    },
    "id": "hOHOKhWyIzk9",
    "outputId": "86489f9e-19fd-4e7a-9f2e-f0c0805fce5d"
   },
   "outputs": [
    {
     "name": "stdout",
     "output_type": "stream",
     "text": [
      "Iter: 0, Loss: 0.4946\n",
      "Iter: 100, Loss: 0.2212\n",
      "Iter: 200, Loss: 0.2191\n",
      "Iter: 300, Loss: 0.2182\n",
      "Iter: 400, Loss: 0.2173\n",
      "Iter: 500, Loss: 0.2166\n",
      "Iter: 600, Loss: 0.2159\n",
      "Iter: 700, Loss: 0.2152\n",
      "Iter: 800, Loss: 0.2146\n",
      "Iter: 900, Loss: 0.2139\n",
      "Iter: 1000, Loss: 0.2133\n",
      "Iter: 1100, Loss: 0.2126\n",
      "Iter: 1200, Loss: 0.2120\n",
      "Iter: 1300, Loss: 0.2114\n",
      "Iter: 1400, Loss: 0.2108\n",
      "Iter: 1500, Loss: 0.2102\n",
      "Iter: 1600, Loss: 0.2096\n",
      "Iter: 1700, Loss: 0.2090\n",
      "Iter: 1800, Loss: 0.2084\n",
      "Iter: 1900, Loss: 0.2078\n",
      "Iter: 2000, Loss: 0.2073\n",
      "Iter: 2100, Loss: 0.2067\n",
      "Iter: 2200, Loss: 0.2061\n",
      "Iter: 2300, Loss: 0.2056\n",
      "Iter: 2400, Loss: 0.2050\n",
      "Iter: 2500, Loss: 0.2044\n",
      "Iter: 2600, Loss: 0.2039\n",
      "Iter: 2700, Loss: 0.2033\n",
      "Iter: 2800, Loss: 0.2028\n",
      "Iter: 2900, Loss: 0.2023\n",
      "Iter: 3000, Loss: 0.2017\n",
      "Iter: 3100, Loss: 0.2012\n",
      "Iter: 3200, Loss: 0.2007\n",
      "Iter: 3300, Loss: 0.2002\n",
      "Iter: 3400, Loss: 0.1996\n",
      "Iter: 3500, Loss: 0.1991\n",
      "Iter: 3600, Loss: 0.1986\n",
      "Iter: 3700, Loss: 0.1981\n",
      "Iter: 3800, Loss: 0.1976\n",
      "Iter: 3900, Loss: 0.1971\n",
      "Iter: 4000, Loss: 0.1966\n",
      "Iter: 4100, Loss: 0.1961\n",
      "Iter: 4200, Loss: 0.1956\n",
      "Iter: 4300, Loss: 0.1951\n",
      "Iter: 4400, Loss: 0.1946\n",
      "Iter: 4500, Loss: 0.1942\n",
      "Iter: 4600, Loss: 0.1937\n",
      "Iter: 4700, Loss: 0.1932\n",
      "Iter: 4800, Loss: 0.1927\n",
      "Iter: 4900, Loss: 0.1923\n"
     ]
    }
   ],
   "source": [
    "epochs = 5000\n",
    "\n",
    "for step in range(epochs):\n",
    "  for features, labels in dataset:\n",
    "    with tf.GradientTape() as tape:\n",
    "      loss_value = loss_fn(hypothesis_softmax(features),labels)\n",
    "      grads = tape.gradient(loss_value, [W,b])\n",
    "      optimizer.apply_gradients(grads_and_vars=zip(grads,[W,b]))\n",
    "      if step % 100 == 0:\n",
    "            print(\"Iter: {}, Loss: {:.4f}\".format(step, loss_fn(hypothesis_softmax(features),labels)))"
   ]
  },
  {
   "cell_type": "code",
   "execution_count": 0,
   "metadata": {
    "colab": {
     "base_uri": "https://localhost:8080/",
     "height": 187
    },
    "colab_type": "code",
    "executionInfo": {
     "elapsed": 675,
     "status": "ok",
     "timestamp": 1561963228798,
     "user": {
      "displayName": "junseop so",
      "photoUrl": "",
      "userId": "03070847090635331575"
     },
     "user_tz": -540
    },
    "id": "pyNxH16II0st",
    "outputId": "448ae1c6-9e4c-42ee-f8ea-5b34f5b00211"
   },
   "outputs": [
    {
     "name": "stdout",
     "output_type": "stream",
     "text": [
      "tf.Tensor(\n",
      "[[0.02506327 0.17484154 0.8000952 ]\n",
      " [0.02767292 0.21975704 0.7525701 ]\n",
      " [0.02901728 0.26688847 0.70409423]\n",
      " [0.03237214 0.46170443 0.50592345]\n",
      " [0.06300007 0.44261736 0.49438262]\n",
      " [0.04512385 0.5282038  0.42667234]\n",
      " [0.0807696  0.4135782  0.5056521 ]\n",
      " [0.09640567 0.37714964 0.52644473]], shape=(8, 3), dtype=float32)\n",
      "tf.Tensor([2 2 2 2 2 1 2 2], shape=(8,), dtype=int64)\n"
     ]
    }
   ],
   "source": [
    "sample_data = [[2,1,3,2]] # answer_label [[0,0,1]]\n",
    "sample_data = np.asarray(sample_data, dtype=np.float32)\n",
    "\n",
    "a = hypothesis_softmax(sample_data)\n",
    "\n",
    "print(a)\n",
    "print(tf.argmax(a, 1)) #index: 2"
   ]
  },
  {
   "cell_type": "code",
   "execution_count": 0,
   "metadata": {
    "colab": {
     "base_uri": "https://localhost:8080/",
     "height": 204
    },
    "colab_type": "code",
    "executionInfo": {
     "elapsed": 682,
     "status": "ok",
     "timestamp": 1561963231256,
     "user": {
      "displayName": "junseop so",
      "photoUrl": "",
      "userId": "03070847090635331575"
     },
     "user_tz": -540
    },
    "id": "9qJfHxEnI25d",
    "outputId": "8382692e-02f8-4ba1-c263-f49828e76a0c"
   },
   "outputs": [
    {
     "name": "stdout",
     "output_type": "stream",
     "text": [
      "tf.Tensor(\n",
      "[[2.8544392e-03 3.4178246e-02 9.6296734e-01]\n",
      " [2.7672928e-02 2.1975701e-01 7.5257009e-01]\n",
      " [7.5363736e-05 3.0042809e-01 6.9949651e-01]\n",
      " [1.5564926e-04 6.8860263e-01 3.1124178e-01]\n",
      " [3.7244135e-01 5.7660097e-01 5.0957628e-02]\n",
      " [1.7641214e-01 8.2352173e-01 6.6137502e-05]\n",
      " [7.0105165e-01 2.9804820e-01 9.0011442e-04]\n",
      " [8.4398997e-01 1.5587109e-01 1.3893055e-04]], shape=(8, 3), dtype=float32)\n",
      "tf.Tensor([2 2 2 1 1 1 0 0], shape=(8,), dtype=int64)\n",
      "tf.Tensor([2 2 2 1 1 1 0 0], shape=(8,), dtype=int64)\n"
     ]
    }
   ],
   "source": [
    "b = hypothesis_softmax(x_data)\n",
    "print(b)\n",
    "print(tf.argmax(b, 1))\n",
    "print(tf.argmax(y_data, 1)) # matches with y_data\n"
   ]
  },
  {
   "cell_type": "code",
   "execution_count": 0,
   "metadata": {
    "colab": {
     "base_uri": "https://localhost:8080/",
     "height": 34
    },
    "colab_type": "code",
    "executionInfo": {
     "elapsed": 817,
     "status": "ok",
     "timestamp": 1561963233109,
     "user": {
      "displayName": "junseop so",
      "photoUrl": "",
      "userId": "03070847090635331575"
     },
     "user_tz": -540
    },
    "id": "CkhpaF-rCMnZ",
    "outputId": "5b0856ce-017b-4c01-f098-1bcd948936d7"
   },
   "outputs": [
    {
     "name": "stdout",
     "output_type": "stream",
     "text": [
      "Testset Accuracy: 1.0000\n"
     ]
    }
   ],
   "source": [
    "def accuracy_fn(hypothesis, labels):\n",
    "    predicted = tf.cast(hypothesis > 0.5, dtype=tf.float32)\n",
    "    accuracy = tf.reduce_mean(tf.cast(tf.equal(predicted, labels), dtype=tf.float32))\n",
    "    return accuracy\n",
    "  \n",
    "test_acc = accuracy_fn(hypothesis_softmax(x_data),y_data)\n",
    "print(\"Testset Accuracy: {:.4f}\".format(test_acc))"
   ]
  },
  {
   "cell_type": "code",
   "execution_count": 0,
   "metadata": {
    "colab": {},
    "colab_type": "code",
    "id": "CHq7WwDzE1oh"
   },
   "outputs": [],
   "source": []
  }
 ],
 "metadata": {
  "colab": {
   "collapsed_sections": [],
   "name": "4 - Softmax classification.ipynb",
   "provenance": [],
   "version": "0.3.2"
  },
  "kernelspec": {
   "display_name": "Python 3",
   "language": "python",
   "name": "python3"
  },
  "language_info": {
   "codemirror_mode": {
    "name": "ipython",
    "version": 3
   },
   "file_extension": ".py",
   "mimetype": "text/x-python",
   "name": "python",
   "nbconvert_exporter": "python",
   "pygments_lexer": "ipython3",
   "version": "3.6.7"
  }
 },
 "nbformat": 4,
 "nbformat_minor": 1
}
